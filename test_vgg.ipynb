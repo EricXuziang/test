{
  "nbformat": 4,
  "nbformat_minor": 0,
  "metadata": {
    "colab": {
      "name": "test-vgg.ipynb",
      "version": "0.3.2",
      "provenance": [],
      "collapsed_sections": []
    },
    "kernelspec": {
      "name": "python3",
      "display_name": "Python 3"
    },
    "accelerator": "GPU"
  },
  "cells": [
    {
      "cell_type": "code",
      "metadata": {
        "id": "bhGycEM6-C7a",
        "colab_type": "code",
        "colab": {}
      },
      "source": [
        "!apt-get install -y -qq software-properties-common python-software-properties module-init-tools\n",
        "!add-apt-repository -y ppa:alessandro-strada/ppa 2>&1 > /dev/null\n",
        "!apt-get update -qq 2>&1 > /dev/null\n",
        "!apt-get -y install -qq google-drive-ocamlfuse fuse\n",
        "from google.colab import auth\n",
        "auth.authenticate_user()\n",
        "from oauth2client.client import GoogleCredentials\n",
        "creds = GoogleCredentials.get_application_default()\n",
        "import getpass\n",
        "!google-drive-ocamlfuse -headless -id={creds.client_id} -secret={creds.client_secret} < /dev/null 2>&1 | grep URL\n",
        "vcode = getpass.getpass()\n",
        "!echo {vcode} | google-drive-ocamlfuse -headless -id={creds.client_id} -secret={creds.client_secret}"
      ],
      "execution_count": 0,
      "outputs": []
    },
    {
      "cell_type": "code",
      "metadata": {
        "id": "XSVSDnF6-iUy",
        "colab_type": "code",
        "colab": {}
      },
      "source": [
        "!mkdir -p drive\n",
        "!google-drive-ocamlfuse drive\n",
        "import os\n",
        "os.chdir(\"drive/ML/分类/\")\n",
        "!ls"
      ],
      "execution_count": 0,
      "outputs": []
    },
    {
      "cell_type": "code",
      "metadata": {
        "id": "PHGh9XkC2czD",
        "colab_type": "code",
        "colab": {}
      },
      "source": [
        "!pip show keras\n",
        "!pip show tensorflow\n",
        "!pip show keras-vis"
      ],
      "execution_count": 0,
      "outputs": []
    },
    {
      "cell_type": "code",
      "metadata": {
        "id": "oKhlDq_j3BKj",
        "colab_type": "code",
        "colab": {}
      },
      "source": [
        "# !pip uninstall keras\n",
        "!pip uninstall tensorflow\n",
        "# !pip uninstall keras-vis"
      ],
      "execution_count": 0,
      "outputs": []
    },
    {
      "cell_type": "code",
      "metadata": {
        "id": "jEsQJ6ZO3Bys",
        "colab_type": "code",
        "colab": {}
      },
      "source": [
        "!pip install tensorflow==1.12\n",
        "# !pip install keras==2.2.4\n",
        "# !pip install git+https://github.com/raghakot/keras-vis.git"
      ],
      "execution_count": 0,
      "outputs": []
    },
    {
      "cell_type": "code",
      "metadata": {
        "id": "j4am8r_i-15k",
        "colab_type": "code",
        "colab": {}
      },
      "source": [
        "import os\n",
        "import numpy as np\n",
        "from PIL import Image\n",
        "from sklearn.model_selection import train_test_split\n",
        "from matplotlib import pyplot as plt\n",
        "images=[]\n",
        "labels=[]\n",
        "def read_image(imageName):\n",
        "    im = Image.open(imageName).convert('RGB')\n",
        "    data = np.array(im)\n",
        "    return data"
      ],
      "execution_count": 0,
      "outputs": []
    },
    {
      "cell_type": "code",
      "metadata": {
        "id": "zakjlquo_Ws3",
        "colab_type": "code",
        "colab": {}
      },
      "source": [
        "# 读取在words里面有几个文件夹\n",
        "text = os.listdir('./resize_data')\n",
        "# 把文件夹里面的图片和其对应的文件夹的名字也就是对应的字\n",
        "for textPath in text:\n",
        "    for fn in os.listdir(os.path.join('resize_data', textPath)):\n",
        "        if fn.endswith('.jpg'):\n",
        "            fd = os.path.join('./resize_data', textPath, fn)\n",
        "            images.append(read_image(fd))\n",
        "            labels.append(textPath)\n",
        "            \n",
        "X = np.array(images)\n",
        "y = np.array(list(map(int, labels))) "
      ],
      "execution_count": 0,
      "outputs": []
    },
    {
      "cell_type": "code",
      "metadata": {
        "id": "STADbr89AwSj",
        "colab_type": "code",
        "colab": {}
      },
      "source": [
        "X_train, X_test, y_train, y_test = train_test_split(X, y, test_size=0.20, random_state=30)"
      ],
      "execution_count": 0,
      "outputs": []
    },
    {
      "cell_type": "code",
      "metadata": {
        "id": "Tod8WaZVC3FF",
        "colab_type": "code",
        "colab": {}
      },
      "source": [
        "# [0],dyed-lifted-polyps\n",
        "# [1],dyed-resection-margins\n",
        "# [2],esophagitis\n",
        "# [3],normal-cecum\n",
        "# [4],normal-pylorus\n",
        "# [5],normal-z-line\n",
        "# [6],polyps\n",
        "# [7],ulcerative-colitis\n",
        "plt.imshow(X_train[0])"
      ],
      "execution_count": 0,
      "outputs": []
    },
    {
      "cell_type": "code",
      "metadata": {
        "id": "9kUYA2m-C7XH",
        "colab_type": "code",
        "colab": {}
      },
      "source": [
        "print(X_train.shape)\n",
        "print(y_train.shape)\n",
        "print(X_test.shape)\n",
        "print(y_test.shape)"
      ],
      "execution_count": 0,
      "outputs": []
    },
    {
      "cell_type": "code",
      "metadata": {
        "id": "e6dJbCe_C84X",
        "colab_type": "code",
        "colab": {
          "base_uri": "https://localhost:8080/",
          "height": 34
        },
        "outputId": "0193dba9-1a4c-4f4a-fd21-400c30df8750"
      },
      "source": [
        "X_train = X_train.astype('float32')\n",
        "X_test = X_test.astype('float32')\n",
        "X_train /= 255\n",
        "X_test /= 255\n",
        "from keras.utils import np_utils\n",
        "Y_train = np_utils.to_categorical(y_train, 8)\n",
        "Y_test = np_utils.to_categorical(y_test, 8)"
      ],
      "execution_count": 6,
      "outputs": [
        {
          "output_type": "stream",
          "text": [
            "Using TensorFlow backend.\n"
          ],
          "name": "stderr"
        }
      ]
    },
    {
      "cell_type": "code",
      "metadata": {
        "id": "Mjt8td2FDB-V",
        "colab_type": "code",
        "colab": {}
      },
      "source": [
        "print(Y_train.shape)\n",
        "print(Y_train.shape)"
      ],
      "execution_count": 0,
      "outputs": []
    },
    {
      "cell_type": "code",
      "metadata": {
        "id": "JGjKse4sDDWb",
        "colab_type": "code",
        "colab": {}
      },
      "source": [
        "'''\n",
        "from keras.models import Sequential\n",
        "from keras.layers import Dense, Dropout, Activation, Flatten\n",
        "from keras.layers import Convolution2D, MaxPool2D\n",
        "from keras.utils import np_utils\n",
        "import numpy as np\n",
        " \n",
        "# 全局变量\n",
        "batch_size = 128    # 每批次多少样本\n",
        "nb_classes = 8     # 类别总数\n",
        "epochs = 50        # 遍历次数\n",
        "img_rows, img_cols = 224,224\n",
        "nb_filters = 32         # 卷积个数\n",
        "pool_size = (2, 2)      # 池化面积大小\n",
        "kernel_size = (3, 3)    # 卷积核大小\n",
        "\n",
        "# 卷积神经网络\n",
        "model = Sequential()\n",
        "model.add(Convolution2D(nb_filters, (kernel_size[0], kernel_size[1]),\n",
        "                        padding='same',\n",
        "                        input_shape=(224,224,3)))   # 卷积层1\n",
        "model.add(Activation('relu'))\n",
        "model.add(Convolution2D(nb_filters, (kernel_size[0], kernel_size[1])))  # 卷积层2\n",
        "model.add(Activation('relu'))\n",
        "model.add(MaxPool2D(pool_size=pool_size))   # 池化层\n",
        " \n",
        "model.add(Convolution2D(nb_filters, (kernel_size[0], kernel_size[1])))  # 卷积层3\n",
        "model.add(Activation('relu'))\n",
        "model.add(MaxPool2D(pool_size=pool_size))   # 池化层\n",
        " \n",
        "model.add(Convolution2D(nb_filters, (kernel_size[0], kernel_size[1])))  # 卷积层4\n",
        "model.add(Activation('relu'))\n",
        "model.add(MaxPool2D(pool_size=pool_size))   # 池化层\n",
        " \n",
        "model.add(Flatten())      # 拉成一维数据\n",
        "model.add(Dense(128))   # 全连接层\n",
        "model.add(Activation('relu'))\n",
        "model.add(Dense(nb_classes))\n",
        "model.add(Activation('softmax'))\n",
        "\n",
        "model.compile(loss='sparse_categorical_crossentropy', optimizer='adam', metrics=['accuracy'])"
      ],
      "execution_count": 0,
      "outputs": []
    },
    {
      "cell_type": "code",
      "metadata": {
        "id": "CFd9Il4KVS6u",
        "colab_type": "code",
        "colab": {}
      },
      "source": [
        "'''\n",
        "from keras.applications.vgg16 import VGG16\n",
        "print('Start build VGG16 -------')\n",
        "# 获取vgg16的卷积部分，如果要获取整个vgg16网络需要设置:include_top=True\n",
        "model_vgg16_conv = VGG16(weights='imagenet', include_top=False)\n",
        "model_vgg16_conv.summary()\n",
        "\n",
        "from keras.layers import Dense, Activation,Flatten\n",
        "from keras.models import Model\n",
        "from keras.layers import Input\n",
        "from keras.layers import Dropout\n",
        "from keras.optimizers import SGD\n",
        "\n",
        "input_shape = (224, 224, 3)\n",
        "\n",
        "input = Input(input_shape, name = 'image_input')\n",
        "\n",
        "output_vgg16_conv = model_vgg16_conv(input)\n",
        "x = Flatten(name='flatten')(output_vgg16_conv)\n",
        "x = Dense(4096, activation='relu', name='fc1')(x)\n",
        "x = Dense(512, activation='relu', name='fc2')(x)\n",
        "x = Dropout(0.5)(x)\n",
        "x = Dense(128, activation='relu', name='fc3')(x)\n",
        "x = Dense(8, activation='softmax', name='predictions')(x)\n",
        "epochs=50\n",
        "lrate=0.01\n",
        "decay=lrate/epochs\n",
        "sgd = SGD(lr=0.01, decay=1e-5)\n",
        "# 最终创建出自己的vgg16模型\n",
        "my_model = Model(input=input, output=x)\n",
        "\n",
        "print('\\nThis is my vgg16 model for the task')\n",
        "my_model.summary()\n",
        "\n",
        "my_model.compile(optimizer=sgd,\n",
        "              loss='sparse_categorical_crossentropy',\n",
        "              metrics=['accuracy'])"
      ],
      "execution_count": 0,
      "outputs": []
    },
    {
      "cell_type": "code",
      "metadata": {
        "id": "KfQ2dVJ3T1-7",
        "colab_type": "code",
        "colab": {}
      },
      "source": [
        "from keras.applications.vgg16 import VGG16\n",
        "\n",
        "# 其次加载其他模块\n",
        "from keras.layers import Input\n",
        "from keras.layers import Flatten\n",
        "from keras.layers import Dense\n",
        "from keras.layers import Dropout\n",
        "from keras.models import Model\n",
        "from keras.optimizers import SGD\n",
        "\n",
        "model_vgg = VGG16(include_top=False, weights='imagenet', input_shape=(224, 224, 3))\n",
        "\n",
        "for layer in model_vgg.layers:\n",
        "    layer.trainable = False#别去调整之前的卷积层的参数\n",
        "model = Flatten(name='flatten')(model_vgg.output)#去掉全连接层，前面都是卷积层\n",
        "model = Dense(4096, activation='relu', name='fc1')(model)\n",
        "model = Dense(4096, activation='relu', name='fc2')(model)\n",
        "model = Dropout(0.5)(model)\n",
        "model = Dense(8, activation='softmax')(model)\n",
        "model_vgg16 = Model(inputs=model_vgg.input, outputs=model, name='vgg16')\n",
        "\n",
        "\n",
        "\n",
        "model_vgg16.summary()"
      ],
      "execution_count": 0,
      "outputs": []
    },
    {
      "cell_type": "code",
      "metadata": {
        "id": "IkSqQePHKaQM",
        "colab_type": "code",
        "colab": {}
      },
      "source": [
        "import keras\n",
        "opt_sgd = keras.optimizers.SGD(\n",
        "                lr=1e-3\n",
        "                , decay=1e-9\n",
        "                , momentum=0.9\n",
        "                , nesterov=False\n",
        "            )\n",
        "model_vgg16.compile(\n",
        "    loss='categorical_crossentropy'\n",
        "    , optimizer=opt_sgd\n",
        "    , metrics=['accuracy']\n",
        ")"
      ],
      "execution_count": 0,
      "outputs": []
    },
    {
      "cell_type": "code",
      "metadata": {
        "id": "jG78nPkZKgDc",
        "colab_type": "code",
        "colab": {}
      },
      "source": [
        "from keras.callbacks import ModelCheckpoint\n",
        "model_checkpoint = ModelCheckpoint('vgg_16.h5', monitor='loss', verbose=1, save_best_only=True)"
      ],
      "execution_count": 0,
      "outputs": []
    },
    {
      "cell_type": "code",
      "metadata": {
        "id": "1yp5eGHrX0C8",
        "colab_type": "code",
        "colab": {
          "base_uri": "https://localhost:8080/",
          "height": 1000
        },
        "outputId": "5ab553b2-5baa-4a2f-85d5-8a2a20f59027"
      },
      "source": [
        "print('开始训练')\n",
        "history=model_vgg16.fit(X_train, Y_train, batch_size=50, epochs=100, verbose=1,\n",
        "          validation_data=(X_test, Y_test),callbacks=[model_checkpoint])"
      ],
      "execution_count": 15,
      "outputs": [
        {
          "output_type": "stream",
          "text": [
            "开始训练\n",
            "Train on 3200 samples, validate on 800 samples\n",
            "Epoch 1/100\n",
            "3200/3200 [==============================] - 26s 8ms/step - loss: 0.5677 - acc: 0.7656 - val_loss: 0.6322 - val_acc: 0.7238\n",
            "\n",
            "Epoch 00001: loss improved from inf to 0.56774, saving model to vgg_16.h5\n",
            "Epoch 2/100\n",
            "3200/3200 [==============================] - 26s 8ms/step - loss: 0.5316 - acc: 0.7859 - val_loss: 0.5949 - val_acc: 0.7463\n",
            "\n",
            "Epoch 00002: loss improved from 0.56774 to 0.53165, saving model to vgg_16.h5\n",
            "Epoch 3/100\n",
            "3200/3200 [==============================] - 26s 8ms/step - loss: 0.4909 - acc: 0.8000 - val_loss: 0.5464 - val_acc: 0.7700\n",
            "\n",
            "Epoch 00003: loss improved from 0.53165 to 0.49089, saving model to vgg_16.h5\n",
            "Epoch 4/100\n",
            "3200/3200 [==============================] - 26s 8ms/step - loss: 0.4791 - acc: 0.8047 - val_loss: 0.5809 - val_acc: 0.7612\n",
            "\n",
            "Epoch 00004: loss improved from 0.49089 to 0.47910, saving model to vgg_16.h5\n",
            "Epoch 5/100\n",
            "3200/3200 [==============================] - 26s 8ms/step - loss: 0.4367 - acc: 0.8294 - val_loss: 0.5000 - val_acc: 0.7838\n",
            "\n",
            "Epoch 00005: loss improved from 0.47910 to 0.43671, saving model to vgg_16.h5\n",
            "Epoch 6/100\n",
            "3200/3200 [==============================] - 26s 8ms/step - loss: 0.4044 - acc: 0.8437 - val_loss: 0.5315 - val_acc: 0.7862\n",
            "\n",
            "Epoch 00006: loss improved from 0.43671 to 0.40439, saving model to vgg_16.h5\n",
            "Epoch 7/100\n",
            "3200/3200 [==============================] - 26s 8ms/step - loss: 0.4000 - acc: 0.8366 - val_loss: 0.4601 - val_acc: 0.8075\n",
            "\n",
            "Epoch 00007: loss improved from 0.40439 to 0.39996, saving model to vgg_16.h5\n",
            "Epoch 8/100\n",
            "3200/3200 [==============================] - 26s 8ms/step - loss: 0.3808 - acc: 0.8459 - val_loss: 0.4727 - val_acc: 0.7937\n",
            "\n",
            "Epoch 00008: loss improved from 0.39996 to 0.38084, saving model to vgg_16.h5\n",
            "Epoch 9/100\n",
            "3200/3200 [==============================] - 26s 8ms/step - loss: 0.3912 - acc: 0.8359 - val_loss: 0.5030 - val_acc: 0.7950\n",
            "\n",
            "Epoch 00009: loss did not improve from 0.38084\n",
            "Epoch 10/100\n",
            "3200/3200 [==============================] - 27s 8ms/step - loss: 0.3779 - acc: 0.8422 - val_loss: 0.5334 - val_acc: 0.7875\n",
            "\n",
            "Epoch 00010: loss improved from 0.38084 to 0.37792, saving model to vgg_16.h5\n",
            "Epoch 11/100\n",
            "3200/3200 [==============================] - 25s 8ms/step - loss: 0.3579 - acc: 0.8553 - val_loss: 0.4588 - val_acc: 0.8212\n",
            "\n",
            "Epoch 00011: loss improved from 0.37792 to 0.35792, saving model to vgg_16.h5\n",
            "Epoch 12/100\n",
            "3200/3200 [==============================] - 27s 8ms/step - loss: 0.3605 - acc: 0.8584 - val_loss: 0.4558 - val_acc: 0.8150\n",
            "\n",
            "Epoch 00012: loss did not improve from 0.35792\n",
            "Epoch 13/100\n",
            "3200/3200 [==============================] - 26s 8ms/step - loss: 0.3153 - acc: 0.8794 - val_loss: 0.4776 - val_acc: 0.7912\n",
            "\n",
            "Epoch 00013: loss improved from 0.35792 to 0.31525, saving model to vgg_16.h5\n",
            "Epoch 14/100\n",
            "3200/3200 [==============================] - 25s 8ms/step - loss: 0.3222 - acc: 0.8781 - val_loss: 0.4684 - val_acc: 0.8087\n",
            "\n",
            "Epoch 00014: loss did not improve from 0.31525\n",
            "Epoch 15/100\n",
            "3200/3200 [==============================] - 27s 8ms/step - loss: 0.3139 - acc: 0.8781 - val_loss: 0.4511 - val_acc: 0.8212\n",
            "\n",
            "Epoch 00015: loss improved from 0.31525 to 0.31386, saving model to vgg_16.h5\n",
            "Epoch 16/100\n",
            "3200/3200 [==============================] - 26s 8ms/step - loss: 0.2798 - acc: 0.8906 - val_loss: 0.5335 - val_acc: 0.7838\n",
            "\n",
            "Epoch 00016: loss improved from 0.31386 to 0.27981, saving model to vgg_16.h5\n",
            "Epoch 17/100\n",
            "3200/3200 [==============================] - 27s 8ms/step - loss: 0.3007 - acc: 0.8828 - val_loss: 0.4438 - val_acc: 0.8200\n",
            "\n",
            "Epoch 00017: loss did not improve from 0.27981\n",
            "Epoch 18/100\n",
            "3200/3200 [==============================] - 26s 8ms/step - loss: 0.2778 - acc: 0.8944 - val_loss: 0.4939 - val_acc: 0.8025\n",
            "\n",
            "Epoch 00018: loss improved from 0.27981 to 0.27785, saving model to vgg_16.h5\n",
            "Epoch 19/100\n",
            "3200/3200 [==============================] - 25s 8ms/step - loss: 0.2846 - acc: 0.8959 - val_loss: 0.5097 - val_acc: 0.7950\n",
            "\n",
            "Epoch 00019: loss did not improve from 0.27785\n",
            "Epoch 20/100\n",
            "3200/3200 [==============================] - 27s 8ms/step - loss: 0.2672 - acc: 0.8903 - val_loss: 0.5129 - val_acc: 0.8012\n",
            "\n",
            "Epoch 00020: loss improved from 0.27785 to 0.26716, saving model to vgg_16.h5\n",
            "Epoch 21/100\n",
            "3200/3200 [==============================] - 25s 8ms/step - loss: 0.2795 - acc: 0.8900 - val_loss: 0.6442 - val_acc: 0.7687\n",
            "\n",
            "Epoch 00021: loss did not improve from 0.26716\n",
            "Epoch 22/100\n",
            "3200/3200 [==============================] - 27s 8ms/step - loss: 0.2387 - acc: 0.9097 - val_loss: 0.4638 - val_acc: 0.8137\n",
            "\n",
            "Epoch 00022: loss improved from 0.26716 to 0.23868, saving model to vgg_16.h5\n",
            "Epoch 23/100\n",
            "3200/3200 [==============================] - 25s 8ms/step - loss: 0.2377 - acc: 0.9031 - val_loss: 0.5532 - val_acc: 0.7862\n",
            "\n",
            "Epoch 00023: loss improved from 0.23868 to 0.23767, saving model to vgg_16.h5\n",
            "Epoch 24/100\n",
            "3200/3200 [==============================] - 27s 8ms/step - loss: 0.2297 - acc: 0.9075 - val_loss: 0.4586 - val_acc: 0.8250\n",
            "\n",
            "Epoch 00024: loss improved from 0.23767 to 0.22967, saving model to vgg_16.h5\n",
            "Epoch 25/100\n",
            "3200/3200 [==============================] - 26s 8ms/step - loss: 0.2173 - acc: 0.9159 - val_loss: 0.4402 - val_acc: 0.8163\n",
            "\n",
            "Epoch 00025: loss improved from 0.22967 to 0.21731, saving model to vgg_16.h5\n",
            "Epoch 26/100\n",
            "3200/3200 [==============================] - 26s 8ms/step - loss: 0.1982 - acc: 0.9234 - val_loss: 0.4486 - val_acc: 0.8237\n",
            "\n",
            "Epoch 00026: loss improved from 0.21731 to 0.19818, saving model to vgg_16.h5\n",
            "Epoch 27/100\n",
            "3200/3200 [==============================] - 26s 8ms/step - loss: 0.1975 - acc: 0.9253 - val_loss: 0.4658 - val_acc: 0.7987\n",
            "\n",
            "Epoch 00027: loss improved from 0.19818 to 0.19752, saving model to vgg_16.h5\n",
            "Epoch 28/100\n",
            "3200/3200 [==============================] - 26s 8ms/step - loss: 0.2009 - acc: 0.9294 - val_loss: 0.6109 - val_acc: 0.7887\n",
            "\n",
            "Epoch 00028: loss did not improve from 0.19752\n",
            "Epoch 29/100\n",
            "3200/3200 [==============================] - 26s 8ms/step - loss: 0.2426 - acc: 0.9044 - val_loss: 0.4974 - val_acc: 0.8162\n",
            "\n",
            "Epoch 00029: loss did not improve from 0.19752\n",
            "Epoch 30/100\n",
            "3200/3200 [==============================] - 25s 8ms/step - loss: 0.1966 - acc: 0.9216 - val_loss: 0.4268 - val_acc: 0.8350\n",
            "\n",
            "Epoch 00030: loss improved from 0.19752 to 0.19663, saving model to vgg_16.h5\n",
            "Epoch 31/100\n",
            "3200/3200 [==============================] - 26s 8ms/step - loss: 0.1762 - acc: 0.9309 - val_loss: 0.4685 - val_acc: 0.8137\n",
            "\n",
            "Epoch 00031: loss improved from 0.19663 to 0.17617, saving model to vgg_16.h5\n",
            "Epoch 32/100\n",
            "3200/3200 [==============================] - 26s 8ms/step - loss: 0.1817 - acc: 0.9319 - val_loss: 0.5425 - val_acc: 0.8087\n",
            "\n",
            "Epoch 00032: loss did not improve from 0.17617\n",
            "Epoch 33/100\n",
            "3200/3200 [==============================] - 26s 8ms/step - loss: 0.1895 - acc: 0.9266 - val_loss: 0.4833 - val_acc: 0.8162\n",
            "\n",
            "Epoch 00033: loss did not improve from 0.17617\n",
            "Epoch 34/100\n",
            "3200/3200 [==============================] - 25s 8ms/step - loss: 0.1595 - acc: 0.9381 - val_loss: 0.4357 - val_acc: 0.8400\n",
            "\n",
            "Epoch 00034: loss improved from 0.17617 to 0.15950, saving model to vgg_16.h5\n",
            "Epoch 35/100\n",
            "3200/3200 [==============================] - 26s 8ms/step - loss: 0.1622 - acc: 0.9419 - val_loss: 0.4703 - val_acc: 0.8312\n",
            "\n",
            "Epoch 00035: loss did not improve from 0.15950\n",
            "Epoch 36/100\n",
            "3200/3200 [==============================] - 27s 8ms/step - loss: 0.1674 - acc: 0.9350 - val_loss: 0.4682 - val_acc: 0.8187\n",
            "\n",
            "Epoch 00036: loss did not improve from 0.15950\n",
            "Epoch 37/100\n",
            "3200/3200 [==============================] - 25s 8ms/step - loss: 0.1550 - acc: 0.9425 - val_loss: 0.4512 - val_acc: 0.8425\n",
            "\n",
            "Epoch 00037: loss improved from 0.15950 to 0.15505, saving model to vgg_16.h5\n",
            "Epoch 38/100\n",
            "3200/3200 [==============================] - 25s 8ms/step - loss: 0.1546 - acc: 0.9381 - val_loss: 0.5160 - val_acc: 0.8125\n",
            "\n",
            "Epoch 00038: loss improved from 0.15505 to 0.15461, saving model to vgg_16.h5\n",
            "Epoch 39/100\n",
            "3200/3200 [==============================] - 27s 8ms/step - loss: 0.1660 - acc: 0.9397 - val_loss: 0.4618 - val_acc: 0.8312\n",
            "\n",
            "Epoch 00039: loss did not improve from 0.15461\n",
            "Epoch 40/100\n",
            "3200/3200 [==============================] - 26s 8ms/step - loss: 0.1538 - acc: 0.9416 - val_loss: 0.4343 - val_acc: 0.8275\n",
            "\n",
            "Epoch 00040: loss improved from 0.15461 to 0.15376, saving model to vgg_16.h5\n",
            "Epoch 41/100\n",
            "3200/3200 [==============================] - 25s 8ms/step - loss: 0.1285 - acc: 0.9553 - val_loss: 0.4776 - val_acc: 0.8338\n",
            "\n",
            "Epoch 00041: loss improved from 0.15376 to 0.12855, saving model to vgg_16.h5\n",
            "Epoch 42/100\n",
            "3200/3200 [==============================] - 27s 8ms/step - loss: 0.1429 - acc: 0.9475 - val_loss: 0.4663 - val_acc: 0.8312\n",
            "\n",
            "Epoch 00042: loss did not improve from 0.12855\n",
            "Epoch 43/100\n",
            "3200/3200 [==============================] - 26s 8ms/step - loss: 0.1671 - acc: 0.9306 - val_loss: 0.4499 - val_acc: 0.8325\n",
            "\n",
            "Epoch 00043: loss did not improve from 0.12855\n",
            "Epoch 44/100\n",
            "3200/3200 [==============================] - 25s 8ms/step - loss: 0.1250 - acc: 0.9569 - val_loss: 0.5093 - val_acc: 0.8287\n",
            "\n",
            "Epoch 00044: loss improved from 0.12855 to 0.12498, saving model to vgg_16.h5\n",
            "Epoch 45/100\n",
            "3200/3200 [==============================] - 26s 8ms/step - loss: 0.1321 - acc: 0.9531 - val_loss: 0.5010 - val_acc: 0.8112\n",
            "\n",
            "Epoch 00045: loss did not improve from 0.12498\n",
            "Epoch 46/100\n",
            "3200/3200 [==============================] - 27s 8ms/step - loss: 0.1395 - acc: 0.9444 - val_loss: 0.4678 - val_acc: 0.8312\n",
            "\n",
            "Epoch 00046: loss did not improve from 0.12498\n",
            "Epoch 47/100\n",
            "3200/3200 [==============================] - 25s 8ms/step - loss: 0.1378 - acc: 0.9475 - val_loss: 0.4574 - val_acc: 0.8400\n",
            "\n",
            "Epoch 00047: loss did not improve from 0.12498\n",
            "Epoch 48/100\n",
            "3200/3200 [==============================] - 25s 8ms/step - loss: 0.1078 - acc: 0.9619 - val_loss: 0.4798 - val_acc: 0.8225\n",
            "\n",
            "Epoch 00048: loss improved from 0.12498 to 0.10779, saving model to vgg_16.h5\n",
            "Epoch 49/100\n",
            "3200/3200 [==============================] - 26s 8ms/step - loss: 0.0971 - acc: 0.9684 - val_loss: 0.4523 - val_acc: 0.8387\n",
            "\n",
            "Epoch 00049: loss improved from 0.10779 to 0.09707, saving model to vgg_16.h5\n",
            "Epoch 50/100\n",
            "3200/3200 [==============================] - 26s 8ms/step - loss: 0.1152 - acc: 0.9541 - val_loss: 0.5265 - val_acc: 0.8287\n",
            "\n",
            "Epoch 00050: loss did not improve from 0.09707\n",
            "Epoch 51/100\n",
            "3200/3200 [==============================] - 26s 8ms/step - loss: 0.1017 - acc: 0.9656 - val_loss: 0.4452 - val_acc: 0.8425\n",
            "\n",
            "Epoch 00051: loss did not improve from 0.09707\n",
            "Epoch 52/100\n",
            "3200/3200 [==============================] - 25s 8ms/step - loss: 0.0984 - acc: 0.9634 - val_loss: 0.4838 - val_acc: 0.8262\n",
            "\n",
            "Epoch 00052: loss did not improve from 0.09707\n",
            "Epoch 53/100\n",
            "3200/3200 [==============================] - 26s 8ms/step - loss: 0.0933 - acc: 0.9653 - val_loss: 0.4957 - val_acc: 0.8187\n",
            "\n",
            "Epoch 00053: loss improved from 0.09707 to 0.09334, saving model to vgg_16.h5\n",
            "Epoch 54/100\n",
            "3200/3200 [==============================] - 26s 8ms/step - loss: 0.1169 - acc: 0.9584 - val_loss: 0.5765 - val_acc: 0.7937\n",
            "\n",
            "Epoch 00054: loss did not improve from 0.09334\n",
            "Epoch 55/100\n",
            "3200/3200 [==============================] - 26s 8ms/step - loss: 0.1170 - acc: 0.9559 - val_loss: 0.5204 - val_acc: 0.8312\n",
            "\n",
            "Epoch 00055: loss did not improve from 0.09334\n",
            "Epoch 56/100\n",
            "3200/3200 [==============================] - 25s 8ms/step - loss: 0.1080 - acc: 0.9609 - val_loss: 0.4525 - val_acc: 0.8500\n",
            "\n",
            "Epoch 00056: loss did not improve from 0.09334\n",
            "Epoch 57/100\n",
            "3200/3200 [==============================] - 26s 8ms/step - loss: 0.1309 - acc: 0.9513 - val_loss: 0.5116 - val_acc: 0.8125\n",
            "\n",
            "Epoch 00057: loss did not improve from 0.09334\n",
            "Epoch 58/100\n",
            "3200/3200 [==============================] - 26s 8ms/step - loss: 0.1036 - acc: 0.9631 - val_loss: 0.5335 - val_acc: 0.8200\n",
            "\n",
            "Epoch 00058: loss did not improve from 0.09334\n",
            "Epoch 59/100\n",
            "3200/3200 [==============================] - 26s 8ms/step - loss: 0.1354 - acc: 0.9462 - val_loss: 0.4931 - val_acc: 0.8287\n",
            "\n",
            "Epoch 00059: loss did not improve from 0.09334\n",
            "Epoch 60/100\n",
            "3200/3200 [==============================] - 26s 8ms/step - loss: 0.1046 - acc: 0.9584 - val_loss: 0.5100 - val_acc: 0.8338\n",
            "\n",
            "Epoch 00060: loss did not improve from 0.09334\n",
            "Epoch 61/100\n",
            "3200/3200 [==============================] - 26s 8ms/step - loss: 0.0815 - acc: 0.9716 - val_loss: 0.5646 - val_acc: 0.8287\n",
            "\n",
            "Epoch 00061: loss improved from 0.09334 to 0.08151, saving model to vgg_16.h5\n",
            "Epoch 62/100\n",
            "3200/3200 [==============================] - 26s 8ms/step - loss: 0.0908 - acc: 0.9678 - val_loss: 0.4807 - val_acc: 0.8362\n",
            "\n",
            "Epoch 00062: loss did not improve from 0.08151\n",
            "Epoch 63/100\n",
            "3200/3200 [==============================] - 27s 8ms/step - loss: 0.0961 - acc: 0.9631 - val_loss: 0.5336 - val_acc: 0.8225\n",
            "\n",
            "Epoch 00063: loss did not improve from 0.08151\n",
            "Epoch 64/100\n",
            "3200/3200 [==============================] - 25s 8ms/step - loss: 0.0912 - acc: 0.9669 - val_loss: 0.5630 - val_acc: 0.8287\n",
            "\n",
            "Epoch 00064: loss did not improve from 0.08151\n",
            "Epoch 65/100\n",
            "3200/3200 [==============================] - 26s 8ms/step - loss: 0.0971 - acc: 0.9653 - val_loss: 0.5958 - val_acc: 0.8013\n",
            "\n",
            "Epoch 00065: loss did not improve from 0.08151\n",
            "Epoch 66/100\n",
            "3200/3200 [==============================] - 26s 8ms/step - loss: 0.0822 - acc: 0.9722 - val_loss: 0.4788 - val_acc: 0.8375\n",
            "\n",
            "Epoch 00066: loss did not improve from 0.08151\n",
            "Epoch 67/100\n",
            "3200/3200 [==============================] - 26s 8ms/step - loss: 0.0740 - acc: 0.9753 - val_loss: 0.5080 - val_acc: 0.8350\n",
            "\n",
            "Epoch 00067: loss improved from 0.08151 to 0.07400, saving model to vgg_16.h5\n",
            "Epoch 68/100\n",
            "3200/3200 [==============================] - 26s 8ms/step - loss: 0.0731 - acc: 0.9753 - val_loss: 0.5121 - val_acc: 0.8275\n",
            "\n",
            "Epoch 00068: loss improved from 0.07400 to 0.07310, saving model to vgg_16.h5\n",
            "Epoch 69/100\n",
            "3200/3200 [==============================] - 26s 8ms/step - loss: 0.1060 - acc: 0.9616 - val_loss: 0.5603 - val_acc: 0.8125\n",
            "\n",
            "Epoch 00069: loss did not improve from 0.07310\n",
            "Epoch 70/100\n",
            "3200/3200 [==============================] - 26s 8ms/step - loss: 0.0833 - acc: 0.9703 - val_loss: 0.4928 - val_acc: 0.8450\n",
            "\n",
            "Epoch 00070: loss did not improve from 0.07310\n",
            "Epoch 71/100\n",
            "3200/3200 [==============================] - 25s 8ms/step - loss: 0.0782 - acc: 0.9694 - val_loss: 0.5641 - val_acc: 0.8213\n",
            "\n",
            "Epoch 00071: loss did not improve from 0.07310\n",
            "Epoch 72/100\n",
            "3200/3200 [==============================] - 26s 8ms/step - loss: 0.0746 - acc: 0.9734 - val_loss: 0.4925 - val_acc: 0.8425\n",
            "\n",
            "Epoch 00072: loss did not improve from 0.07310\n",
            "Epoch 73/100\n",
            "3200/3200 [==============================] - 26s 8ms/step - loss: 0.0666 - acc: 0.9759 - val_loss: 0.5280 - val_acc: 0.8300\n",
            "\n",
            "Epoch 00073: loss improved from 0.07310 to 0.06664, saving model to vgg_16.h5\n",
            "Epoch 74/100\n",
            "3200/3200 [==============================] - 26s 8ms/step - loss: 0.0774 - acc: 0.9722 - val_loss: 0.5326 - val_acc: 0.8225\n",
            "\n",
            "Epoch 00074: loss did not improve from 0.06664\n",
            "Epoch 75/100\n",
            "3200/3200 [==============================] - 26s 8ms/step - loss: 0.0798 - acc: 0.9694 - val_loss: 0.5661 - val_acc: 0.8225\n",
            "\n",
            "Epoch 00075: loss did not improve from 0.06664\n",
            "Epoch 76/100\n",
            "3200/3200 [==============================] - 25s 8ms/step - loss: 0.0799 - acc: 0.9703 - val_loss: 0.5091 - val_acc: 0.8400\n",
            "\n",
            "Epoch 00076: loss did not improve from 0.06664\n",
            "Epoch 77/100\n",
            "3200/3200 [==============================] - 26s 8ms/step - loss: 0.0827 - acc: 0.9691 - val_loss: 0.5852 - val_acc: 0.8050\n",
            "\n",
            "Epoch 00077: loss did not improve from 0.06664\n",
            "Epoch 78/100\n",
            "3200/3200 [==============================] - 26s 8ms/step - loss: 0.0690 - acc: 0.9766 - val_loss: 0.5272 - val_acc: 0.8337\n",
            "\n",
            "Epoch 00078: loss did not improve from 0.06664\n",
            "Epoch 79/100\n",
            "3200/3200 [==============================] - 26s 8ms/step - loss: 0.0663 - acc: 0.9756 - val_loss: 0.5277 - val_acc: 0.8362\n",
            "\n",
            "Epoch 00079: loss improved from 0.06664 to 0.06634, saving model to vgg_16.h5\n",
            "Epoch 80/100\n",
            "3200/3200 [==============================] - 26s 8ms/step - loss: 0.0589 - acc: 0.9809 - val_loss: 0.5334 - val_acc: 0.8350\n",
            "\n",
            "Epoch 00080: loss improved from 0.06634 to 0.05887, saving model to vgg_16.h5\n",
            "Epoch 81/100\n",
            "3200/3200 [==============================] - 26s 8ms/step - loss: 0.0543 - acc: 0.9831 - val_loss: 0.5209 - val_acc: 0.8325\n",
            "\n",
            "Epoch 00081: loss improved from 0.05887 to 0.05434, saving model to vgg_16.h5\n",
            "Epoch 82/100\n",
            "3200/3200 [==============================] - 26s 8ms/step - loss: 0.0696 - acc: 0.9744 - val_loss: 0.5168 - val_acc: 0.8362\n",
            "\n",
            "Epoch 00082: loss did not improve from 0.05434\n",
            "Epoch 83/100\n",
            "3200/3200 [==============================] - 27s 8ms/step - loss: 0.0578 - acc: 0.9781 - val_loss: 0.5360 - val_acc: 0.8300\n",
            "\n",
            "Epoch 00083: loss did not improve from 0.05434\n",
            "Epoch 84/100\n",
            "3200/3200 [==============================] - 25s 8ms/step - loss: 0.0549 - acc: 0.9831 - val_loss: 0.5909 - val_acc: 0.8287\n",
            "\n",
            "Epoch 00084: loss did not improve from 0.05434\n",
            "Epoch 85/100\n",
            "3200/3200 [==============================] - 26s 8ms/step - loss: 0.0634 - acc: 0.9778 - val_loss: 0.5201 - val_acc: 0.8400\n",
            "\n",
            "Epoch 00085: loss did not improve from 0.05434\n",
            "Epoch 86/100\n",
            "3200/3200 [==============================] - 26s 8ms/step - loss: 0.0630 - acc: 0.9806 - val_loss: 0.5371 - val_acc: 0.8337\n",
            "\n",
            "Epoch 00086: loss did not improve from 0.05434\n",
            "Epoch 87/100\n",
            "3200/3200 [==============================] - 26s 8ms/step - loss: 0.0525 - acc: 0.9831 - val_loss: 0.5376 - val_acc: 0.8350\n",
            "\n",
            "Epoch 00087: loss improved from 0.05434 to 0.05249, saving model to vgg_16.h5\n",
            "Epoch 88/100\n",
            "3200/3200 [==============================] - 26s 8ms/step - loss: 0.0521 - acc: 0.9822 - val_loss: 0.5762 - val_acc: 0.8237\n",
            "\n",
            "Epoch 00088: loss improved from 0.05249 to 0.05209, saving model to vgg_16.h5\n",
            "Epoch 89/100\n",
            "3200/3200 [==============================] - 26s 8ms/step - loss: 0.0452 - acc: 0.9888 - val_loss: 0.5396 - val_acc: 0.8325\n",
            "\n",
            "Epoch 00089: loss improved from 0.05209 to 0.04521, saving model to vgg_16.h5\n",
            "Epoch 90/100\n",
            "3200/3200 [==============================] - 26s 8ms/step - loss: 0.0675 - acc: 0.9744 - val_loss: 0.5367 - val_acc: 0.8325\n",
            "\n",
            "Epoch 00090: loss did not improve from 0.04521\n",
            "Epoch 91/100\n",
            "3200/3200 [==============================] - 26s 8ms/step - loss: 0.0500 - acc: 0.9847 - val_loss: 0.5891 - val_acc: 0.8175\n",
            "\n",
            "Epoch 00091: loss did not improve from 0.04521\n",
            "Epoch 92/100\n",
            "3200/3200 [==============================] - 25s 8ms/step - loss: 0.0626 - acc: 0.9772 - val_loss: 0.5509 - val_acc: 0.8350\n",
            "\n",
            "Epoch 00092: loss did not improve from 0.04521\n",
            "Epoch 93/100\n",
            "3200/3200 [==============================] - 26s 8ms/step - loss: 0.0606 - acc: 0.9747 - val_loss: 0.5558 - val_acc: 0.8287\n",
            "\n",
            "Epoch 00093: loss did not improve from 0.04521\n",
            "Epoch 94/100\n",
            "3200/3200 [==============================] - 26s 8ms/step - loss: 0.0511 - acc: 0.9794 - val_loss: 0.5356 - val_acc: 0.8388\n",
            "\n",
            "Epoch 00094: loss did not improve from 0.04521\n",
            "Epoch 95/100\n",
            "3200/3200 [==============================] - 26s 8ms/step - loss: 0.0460 - acc: 0.9841 - val_loss: 0.5527 - val_acc: 0.8312\n",
            "\n",
            "Epoch 00095: loss did not improve from 0.04521\n",
            "Epoch 96/100\n",
            "3200/3200 [==============================] - 26s 8ms/step - loss: 0.0431 - acc: 0.9850 - val_loss: 0.5484 - val_acc: 0.8313\n",
            "\n",
            "Epoch 00096: loss improved from 0.04521 to 0.04306, saving model to vgg_16.h5\n",
            "Epoch 97/100\n",
            "3200/3200 [==============================] - 26s 8ms/step - loss: 0.0497 - acc: 0.9859 - val_loss: 0.5621 - val_acc: 0.8312\n",
            "\n",
            "Epoch 00097: loss did not improve from 0.04306\n",
            "Epoch 98/100\n",
            "3200/3200 [==============================] - 27s 8ms/step - loss: 0.0432 - acc: 0.9866 - val_loss: 0.5352 - val_acc: 0.8375\n",
            "\n",
            "Epoch 00098: loss did not improve from 0.04306\n",
            "Epoch 99/100\n",
            "3200/3200 [==============================] - 25s 8ms/step - loss: 0.0635 - acc: 0.9778 - val_loss: 0.5771 - val_acc: 0.8275\n",
            "\n",
            "Epoch 00099: loss did not improve from 0.04306\n",
            "Epoch 100/100\n",
            "3200/3200 [==============================] - 25s 8ms/step - loss: 0.0468 - acc: 0.9838 - val_loss: 0.5332 - val_acc: 0.8412\n",
            "\n",
            "Epoch 00100: loss did not improve from 0.04306\n"
          ],
          "name": "stdout"
        }
      ]
    },
    {
      "cell_type": "code",
      "metadata": {
        "id": "mwtV2k4bm5Lu",
        "colab_type": "code",
        "colab": {
          "base_uri": "https://localhost:8080/",
          "height": 590
        },
        "outputId": "b72dfa60-a0a9-4be4-cca8-dd9c98f8c8f0"
      },
      "source": [
        "print(history.history.keys())\n",
        "\n",
        "# summarize history for accuracy\n",
        "plt.plot(history.history['acc'])\n",
        "plt.plot(history.history['val_acc'])\n",
        "plt.title('model accuracy')\n",
        "plt.ylabel('accuracy')\n",
        "plt.xlabel('epoch')\n",
        "plt.legend(['train', 'test'], loc='upper left')\n",
        "plt.show()\n",
        "\n",
        "# summarize history for loss\n",
        "plt.plot(history.history['loss'])\n",
        "plt.plot(history.history['val_loss'])\n",
        "plt.title('model loss')\n",
        "plt.ylabel('loss')\n",
        "plt.xlabel('epoch')\n",
        "plt.legend(['train', 'test'], loc='upper left')\n",
        "plt.show()"
      ],
      "execution_count": 16,
      "outputs": [
        {
          "output_type": "stream",
          "text": [
            "dict_keys(['val_loss', 'val_acc', 'loss', 'acc'])\n"
          ],
          "name": "stdout"
        },
        {
          "output_type": "display_data",
          "data": {
            "image/png": "[encoded data removed]",
            "text/plain": [
              "<Figure size 432x288 with 1 Axes>"
            ]
          },
          "metadata": {
            "tags": []
          }
        },
        {
          "output_type": "display_data",
          "data": {
            "image/png": "[encoded data removed]",
            "text/plain": [
              "<Figure size 432x288 with 1 Axes>"
            ]
          },
          "metadata": {
            "tags": []
          }
        }
      ]
    },
    {
      "cell_type": "code",
      "metadata": {
        "id": "P4r969J6nA1_",
        "colab_type": "code",
        "colab": {}
      },
      "source": [
        "# model_vgg16.save('model1.h5')\n",
        "from keras.models import load_model\n",
        "model=load_model('model1.h5')\n"
      ],
      "execution_count": 0,
      "outputs": []
    },
    {
      "cell_type": "code",
      "metadata": {
        "id": "lwdeFAVWgYJj",
        "colab_type": "code",
        "colab": {}
      },
      "source": [
        "print('开始评估')\n",
        "scores = model.evaluate(X_test, y_test)\n",
        "print('Test score:', scores[0])\n",
        "print('Test accuracy:', scores[1])"
      ],
      "execution_count": 0,
      "outputs": []
    },
    {
      "cell_type": "code",
      "metadata": {
        "id": "fOGLAzS-FO6M",
        "colab_type": "code",
        "colab": {}
      },
      "source": [
        "model.summary()"
      ],
      "execution_count": 0,
      "outputs": []
    },
    {
      "cell_type": "code",
      "metadata": {
        "id": "HAiJDBp-YM-I",
        "colab_type": "code",
        "colab": {}
      },
      "source": [
        "from keras.applications import VGG16\n",
        "from vis.utils import utils\n",
        "from keras import activations\n",
        "\n",
        "from vis.utils import utils\n",
        "from matplotlib import pyplot as plt\n",
        "%matplotlib inline\n",
        "plt.rcParams['figure.figsize'] = (18,6)\n",
        "\n",
        "layer_idx = utils.find_layer_idx(model, 'dense_1')\n",
        "\n",
        "# Swap softmax with linear\n",
        "model.layers[layer_idx].activation = activations.linear\n",
        "model = utils.apply_modifications(model)\n",
        "\n",
        "img1 = utils.load_img('image/1.jpg', target_size=(224, 224))\n",
        "img2 = utils.load_img('image/2.jpg', target_size=(224, 224))\n",
        "img3 = utils.load_img('image/3.jpg', target_size=(224, 224))\n",
        "img4 = utils.load_img('image/4.jpg', target_size=(224, 224))\n",
        "img5 = utils.load_img('image/5.jpg', target_size=(224, 224))\n",
        "\n",
        "f,ax=plt.subplots(1,5)\n",
        "ax[0].imshow(img1)\n",
        "ax[1].imshow(img2)\n",
        "ax[2].imshow(img3)\n",
        "ax[3].imshow(img4)\n",
        "ax[4].imshow(img5)\n"
      ],
      "execution_count": 0,
      "outputs": []
    },
    {
      "cell_type": "code",
      "metadata": {
        "id": "V-auYOczdt-1",
        "colab_type": "code",
        "colab": {}
      },
      "source": [
        "img6 = utils.load_img('image/6.jpg', target_size=(224, 224))\n",
        "img7 = utils.load_img('image/7.jpg', target_size=(224, 224))\n",
        "img8 = utils.load_img('image/8.jpg', target_size=(224, 224))\n",
        "img9 = utils.load_img('image/9.jpg', target_size=(224, 224))\n",
        "img10 = utils.load_img('image/10.jpg', target_size=(224, 224))\n",
        "\n",
        "f,ax=plt.subplots(1,5)\n",
        "ax[0].imshow(img6)\n",
        "ax[1].imshow(img7)\n",
        "ax[2].imshow(img8)\n",
        "ax[3].imshow(img9)\n",
        "ax[4].imshow(img10)"
      ],
      "execution_count": 0,
      "outputs": []
    },
    {
      "cell_type": "code",
      "metadata": {
        "id": "c9O547IzFzpS",
        "colab_type": "code",
        "colab": {}
      },
      "source": [
        "from vis.visualization import visualize_saliency, overlay\n",
        "from vis.utils import utils\n",
        "from keras import activations\n",
        "\n",
        "# Utility to search for layer index by name. \n",
        "# Alternatively we can specify this as -1 since it corresponds to the last layer.\n",
        "layer_idx = utils.find_layer_idx(model, 'dense_1')\n",
        "\n",
        "f, ax = plt.subplots(1,2)\n",
        "for i, img in enumerate([img1, img2]): \n",
        "    # 20 is the imagenet index corresponding to `ouzel`\n",
        "    grads = visualize_saliency(model, layer_idx, filter_indices=0, seed_input=img)\n",
        "    \n",
        "    # visualize grads as heatmap\n",
        "    ax[i].imshow(grads, cmap='jet')"
      ],
      "execution_count": 0,
      "outputs": []
    },
    {
      "cell_type": "code",
      "metadata": {
        "id": "b5CaJoubTkab",
        "colab_type": "code",
        "colab": {}
      },
      "source": [
        "for modifier in ['guided', 'relu']:\n",
        "    plt.figure()\n",
        "    f, ax = plt.subplots(1, 2)\n",
        "    plt.suptitle(modifier)\n",
        "    for i, img in enumerate([img1, img2]):   \n",
        "        # 20 is the imagenet index corresponding to `ouzel`\n",
        "        grads = visualize_saliency(model, layer_idx, filter_indices=0, \n",
        "                                   seed_input=img, backprop_modifier=modifier)\n",
        "        # Lets overlay the heatmap onto original image.    \n",
        "        ax[i].imshow(grads, cmap='jet')"
      ],
      "execution_count": 0,
      "outputs": []
    },
    {
      "cell_type": "code",
      "metadata": {
        "id": "r6I_G0DwnHTN",
        "colab_type": "code",
        "colab": {}
      },
      "source": [
        "import numpy as np\n",
        "import matplotlib.cm as cm\n",
        "from vis.visualization import visualize_cam\n",
        "\n",
        "for modifier in [None, 'guided', 'relu']:\n",
        "    plt.figure()\n",
        "    f, ax = plt.subplots(1, 2)\n",
        "    plt.suptitle(\"vanilla\" if modifier is None else modifier)\n",
        "    for i, img in enumerate([img1, img2]):  \n",
        "        # 20 is the imagenet index corresponding to `ouzel`\n",
        "        grads = visualize_cam(model, layer_idx, filter_indices=0, \n",
        "                              seed_input=img, backprop_modifier=modifier)        \n",
        "        # Lets overlay the heatmap onto original image.    \n",
        "        jet_heatmap = np.uint8(cm.jet(grads)[..., :3] * 255)\n",
        "        ax[i].imshow(overlay(jet_heatmap, img))"
      ],
      "execution_count": 0,
      "outputs": []
    },
    {
      "cell_type": "code",
      "metadata": {
        "id": "y_DKC7lcV77C",
        "colab_type": "code",
        "colab": {}
      },
      "source": [
        "import numpy as np\n",
        "import matplotlib.cm as cm\n",
        "from vis.visualization import visualize_cam\n",
        "\n",
        "for modifier in [None, 'guided', 'relu']:\n",
        "    plt.figure()\n",
        "    f, ax = plt.subplots(1, 2)\n",
        "    plt.suptitle(\"vanilla\" if modifier is None else modifier)\n",
        "    for i, img in enumerate([img3, img4]):  \n",
        "        # 20 is the imagenet index corresponding to `ouzel`\n",
        "        grads = visualize_cam(model, layer_idx, filter_indices=1, \n",
        "                              seed_input=img, backprop_modifier=modifier)        \n",
        "        # Lets overlay the heatmap onto original image.    \n",
        "        jet_heatmap = np.uint8(cm.jet(grads)[..., :3] * 255)\n",
        "        ax[i].imshow(overlay(jet_heatmap, img))"
      ],
      "execution_count": 0,
      "outputs": []
    },
    {
      "cell_type": "code",
      "metadata": {
        "id": "g6uZV8-HTdwg",
        "colab_type": "code",
        "colab": {}
      },
      "source": [
        "import numpy as np\n",
        "import matplotlib.cm as cm\n",
        "from vis.visualization import visualize_cam\n",
        "\n",
        "for modifier in ['guided']:\n",
        "    plt.figure()\n",
        "    f, ax = plt.subplots(1, 2)\n",
        "    plt.suptitle(\"vanilla\" if modifier is None else modifier)\n",
        "    for i, img in enumerate([img5, img6]):  \n",
        "        # 20 is the imagenet index corresponding to `ouzel`\n",
        "        grads = visualize_cam(model, layer_idx, filter_indices=2, \n",
        "                              seed_input=img, backprop_modifier=modifier)        \n",
        "        # Lets overlay the heatmap onto original image.    \n",
        "        jet_heatmap = np.uint8(cm.jet(grads)[..., :3] * 255)\n",
        "        ax[i].imshow(overlay(jet_heatmap, img))"
      ],
      "execution_count": 0,
      "outputs": []
    },
    {
      "cell_type": "code",
      "metadata": {
        "id": "wX_17hxlUPq2",
        "colab_type": "code",
        "colab": {}
      },
      "source": [
        "import numpy as np\n",
        "import matplotlib.cm as cm\n",
        "from vis.visualization import visualize_cam\n",
        "\n",
        "for modifier in ['guided']:\n",
        "    plt.figure()\n",
        "    f, ax = plt.subplots(1, 2)\n",
        "    plt.suptitle(\"vanilla\" if modifier is None else modifier)\n",
        "    for i, img in enumerate([img7, img8]):  \n",
        "        # 20 is the imagenet index corresponding to `ouzel`\n",
        "        grads = visualize_cam(model, layer_idx, filter_indices=6, \n",
        "                              seed_input=img, backprop_modifier=modifier)        \n",
        "        # Lets overlay the heatmap onto original image.    \n",
        "        jet_heatmap = np.uint8(cm.jet(grads)[..., :3] * 255)\n",
        "        ax[i].imshow(overlay(jet_heatmap, img))"
      ],
      "execution_count": 0,
      "outputs": []
    },
    {
      "cell_type": "code",
      "metadata": {
        "id": "w7AtHn2zAtmo",
        "colab_type": "code",
        "colab": {}
      },
      "source": [
        ""
      ],
      "execution_count": 0,
      "outputs": []
    },
    {
      "cell_type": "code",
      "metadata": {
        "id": "XkMoQ_MfUYio",
        "colab_type": "code",
        "colab": {}
      },
      "source": [
        "import numpy as np\n",
        "import matplotlib.cm as cm\n",
        "from vis.visualization import visualize_cam\n",
        "\n",
        "for modifier in ['guided']:\n",
        "    plt.figure()\n",
        "    f, ax = plt.subplots(1,1)\n",
        "    plt.suptitle(label[y])\n",
        "    \n",
        "    # 20 is the imagenet index corresponding to `ouzel`\n",
        "    grads = visualize_cam(model, layer_idx, filter_indices=7, \n",
        "                              seed_input=img9, backprop_modifier=modifier)        \n",
        "    # Lets overlay the heatmap onto original image.    \n",
        "    jet_heatmap = np.uint8(cm.jet(grads)[..., :3] * 255)\n",
        "    ax.imshow(overlay(jet_heatmap, img9))"
      ],
      "execution_count": 0,
      "outputs": []
    },
    {
      "cell_type": "code",
      "metadata": {
        "id": "6Qb2yB7idgeN",
        "colab_type": "code",
        "colab": {}
      },
      "source": [
        "from keras.models import load_model\n",
        "model=load_model('model1.h5')"
      ],
      "execution_count": 0,
      "outputs": []
    },
    {
      "cell_type": "markdown",
      "metadata": {
        "id": "GWqirhFIfEHi",
        "colab_type": "text"
      },
      "source": [
        ""
      ]
    },
    {
      "cell_type": "code",
      "metadata": {
        "id": "3JudV83oA_a9",
        "colab_type": "code",
        "colab": {}
      },
      "source": [
        "from keras.preprocessing import image\n",
        "import numpy as np\n",
        "from keras.utils.np_utils import *\n",
        "\n",
        "\n",
        "file_path='image/1.jpg' \n",
        "img=image.load_img(file_path,target_size=(224,224))\n",
        "x=image.img_to_array(img)\n",
        "x=np.expand_dims(x,axis=0)\n",
        "\n",
        "\n",
        "y=model.predict(x,verbose=1)\n",
        "\n",
        "y=y.argmax(axis=-1)\n",
        "\n",
        "label=['dyed-lifted-polyps','dyed-resection-margins','esophagitis','normal-cecum',\n",
        "       'normal-pylorus','normal-z-line','polyps','ulcerative-colitis']\n",
        "label=np.array(label)\n",
        "\n",
        "print(y,label[y])"
      ],
      "execution_count": 0,
      "outputs": []
    },
    {
      "cell_type": "code",
      "metadata": {
        "id": "cm4-XZ0-ImG3",
        "colab_type": "code",
        "colab": {}
      },
      "source": [
        "\n"
      ],
      "execution_count": 0,
      "outputs": []
    },
    {
      "cell_type": "code",
      "metadata": {
        "id": "z_EpF5QMMnS0",
        "colab_type": "code",
        "colab": {}
      },
      "source": [
        ""
      ],
      "execution_count": 0,
      "outputs": []
    },
    {
      "cell_type": "code",
      "metadata": {
        "id": "2S9KGSRCKqfs",
        "colab_type": "code",
        "colab": {}
      },
      "source": [
        ""
      ],
      "execution_count": 0,
      "outputs": []
    }
  ]
}